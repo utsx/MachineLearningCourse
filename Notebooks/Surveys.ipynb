{
 "cells": [
  {
   "cell_type": "code",
   "execution_count": 18,
   "id": "4314c4d9",
   "metadata": {},
   "outputs": [],
   "source": [
    "import numpy as np\n",
    "import pandas as pd\n",
    "import matplotlib.pyplot as plt"
   ]
  },
  {
   "cell_type": "code",
   "execution_count": null,
   "id": "3a9257a0",
   "metadata": {},
   "outputs": [],
   "source": [
    "# Principal component analysis"
   ]
  },
  {
   "cell_type": "code",
   "execution_count": null,
   "id": "95f36704",
   "metadata": {},
   "outputs": [],
   "source": [
    "# Survey 3"
   ]
  },
  {
   "cell_type": "code",
   "execution_count": 9,
   "id": "81c3cdd7",
   "metadata": {},
   "outputs": [],
   "source": [
    "array = np.array([(1, 3), (1, -2), (-2, -1)])\n",
    "f = np.array([(0.32), (0.95)])"
   ]
  },
  {
   "cell_type": "code",
   "execution_count": 12,
   "id": "f9761d4f",
   "metadata": {},
   "outputs": [
    {
     "data": {
      "text/plain": [
       "array([[ 1,  3],\n",
       "       [ 1, -2],\n",
       "       [-2, -1]])"
      ]
     },
     "execution_count": 12,
     "metadata": {},
     "output_type": "execute_result"
    }
   ],
   "source": [
    "array"
   ]
  },
  {
   "cell_type": "code",
   "execution_count": 13,
   "id": "65adf8f2",
   "metadata": {},
   "outputs": [
    {
     "data": {
      "text/plain": [
       "array([0.32, 0.95])"
      ]
     },
     "execution_count": 13,
     "metadata": {},
     "output_type": "execute_result"
    }
   ],
   "source": [
    "f"
   ]
  },
  {
   "cell_type": "code",
   "execution_count": 17,
   "id": "f3845dd2",
   "metadata": {},
   "outputs": [
    {
     "data": {
      "text/plain": [
       "array([ 3.17, -1.58, -1.59])"
      ]
     },
     "execution_count": 17,
     "metadata": {},
     "output_type": "execute_result"
    }
   ],
   "source": [
    "np.dot(array, f)"
   ]
  },
  {
   "cell_type": "code",
   "execution_count": 19,
   "id": "54fd9c0f",
   "metadata": {},
   "outputs": [],
   "source": [
    "#Survey 4 "
   ]
  },
  {
   "cell_type": "code",
   "execution_count": 27,
   "id": "5b5c9840",
   "metadata": {},
   "outputs": [],
   "source": [
    "a = np.array([(2), (3)])\n",
    "b = np.array([(-3), (2)])"
   ]
  },
  {
   "cell_type": "code",
   "execution_count": 28,
   "id": "8107091d",
   "metadata": {},
   "outputs": [
    {
     "data": {
      "text/plain": [
       "0"
      ]
     },
     "execution_count": 28,
     "metadata": {},
     "output_type": "execute_result"
    }
   ],
   "source": [
    "np.dot(a, b)"
   ]
  },
  {
   "cell_type": "code",
   "execution_count": 29,
   "id": "49167378",
   "metadata": {},
   "outputs": [],
   "source": [
    "len_a = np.sqrt(a.dot(a))\n",
    "len_b = np.sqrt(b.dot(b))"
   ]
  },
  {
   "cell_type": "code",
   "execution_count": 31,
   "id": "6e8c5490",
   "metadata": {},
   "outputs": [
    {
     "name": "stdout",
     "output_type": "stream",
     "text": [
      "3.605551275463989\n",
      "3.605551275463989\n"
     ]
    }
   ],
   "source": [
    "print(len_a)\n",
    "print(len_b)"
   ]
  },
  {
   "cell_type": "code",
   "execution_count": 32,
   "id": "eb480239",
   "metadata": {},
   "outputs": [],
   "source": [
    "norm_a = a / len_a\n",
    "norm_b = b / len_b"
   ]
  },
  {
   "cell_type": "code",
   "execution_count": 33,
   "id": "5ee8718a",
   "metadata": {},
   "outputs": [
    {
     "data": {
      "text/plain": [
       "array([0.5547002 , 0.83205029])"
      ]
     },
     "execution_count": 33,
     "metadata": {},
     "output_type": "execute_result"
    }
   ],
   "source": [
    "norm_a"
   ]
  },
  {
   "cell_type": "code",
   "execution_count": 39,
   "id": "69358f13",
   "metadata": {},
   "outputs": [
    {
     "data": {
      "text/plain": [
       "array([-0.83205029,  0.5547002 ])"
      ]
     },
     "execution_count": 39,
     "metadata": {},
     "output_type": "execute_result"
    }
   ],
   "source": [
    "norm_b"
   ]
  },
  {
   "cell_type": "code",
   "execution_count": 40,
   "id": "86b307b6",
   "metadata": {},
   "outputs": [],
   "source": [
    "# Survey 6"
   ]
  },
  {
   "cell_type": "code",
   "execution_count": 56,
   "id": "914dc8e2",
   "metadata": {},
   "outputs": [],
   "source": [
    "z_1 = np.array([(3.17), (-1.58), (-1.59)]).reshape(3, 1)\n",
    "f_1 = np.array([(0.32), \n",
    "                (0.95)]).reshape(2, 1)"
   ]
  },
  {
   "cell_type": "code",
   "execution_count": 58,
   "id": "76e5086a",
   "metadata": {},
   "outputs": [
    {
     "data": {
      "text/plain": [
       "array([[ 3.17],\n",
       "       [-1.58],\n",
       "       [-1.59]])"
      ]
     },
     "execution_count": 58,
     "metadata": {},
     "output_type": "execute_result"
    }
   ],
   "source": [
    "z_1"
   ]
  },
  {
   "cell_type": "code",
   "execution_count": 57,
   "id": "5871d874",
   "metadata": {},
   "outputs": [
    {
     "data": {
      "text/plain": [
       "array([[0.32],\n",
       "       [0.95]])"
      ]
     },
     "execution_count": 57,
     "metadata": {},
     "output_type": "execute_result"
    }
   ],
   "source": [
    "f_1"
   ]
  },
  {
   "cell_type": "code",
   "execution_count": 59,
   "id": "d021369a",
   "metadata": {},
   "outputs": [],
   "source": [
    "f_1_t = np.transpose(f_1)"
   ]
  },
  {
   "cell_type": "code",
   "execution_count": 60,
   "id": "04a66e65",
   "metadata": {},
   "outputs": [
    {
     "data": {
      "text/plain": [
       "array([[ 1.0144,  3.0115],\n",
       "       [-0.5056, -1.501 ],\n",
       "       [-0.5088, -1.5105]])"
      ]
     },
     "execution_count": 60,
     "metadata": {},
     "output_type": "execute_result"
    }
   ],
   "source": [
    "np.dot(z_1, f_1_t)"
   ]
  },
  {
   "cell_type": "code",
   "execution_count": null,
   "id": "4b625d0f",
   "metadata": {},
   "outputs": [],
   "source": []
  }
 ],
 "metadata": {
  "kernelspec": {
   "display_name": "Python 3 (ipykernel)",
   "language": "python",
   "name": "python3"
  },
  "language_info": {
   "codemirror_mode": {
    "name": "ipython",
    "version": 3
   },
   "file_extension": ".py",
   "mimetype": "text/x-python",
   "name": "python",
   "nbconvert_exporter": "python",
   "pygments_lexer": "ipython3",
   "version": "3.8.10"
  }
 },
 "nbformat": 4,
 "nbformat_minor": 5
}
